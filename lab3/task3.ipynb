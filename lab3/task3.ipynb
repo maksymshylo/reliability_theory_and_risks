{
 "cells": [
  {
   "cell_type": "markdown",
   "metadata": {},
   "source": [
    "## Завдання 3. `Перевірка гіпотези випадковості`"
   ]
  },
  {
   "cell_type": "code",
   "execution_count": 3,
   "metadata": {},
   "outputs": [],
   "source": [
    "import numpy as np\n",
    "from IPython.display import Image\n",
    "from scipy.stats import rankdata\n",
    "from IPython.core.display import HTML \n",
    "from scipy import stats\n",
    "import warnings\n",
    "from scipy.special import chdtri\n",
    "warnings.filterwarnings('ignore')"
   ]
  },
  {
   "cell_type": "code",
   "execution_count": 4,
   "metadata": {},
   "outputs": [],
   "source": [
    "gamma=0.05"
   ]
  },
  {
   "cell_type": "code",
   "execution_count": 10,
   "metadata": {},
   "outputs": [],
   "source": [
    "def inversions_experiment(distr):\n",
    "    n= len(distr)\n",
    "    # рахуємо суму інверсій\n",
    "    \n",
    "    z_gamma = n*np.sqrt(n)*stats.norm.ppf(1-(gamma/2))/6 # критичне значення\n",
    "    s_n = 0\n",
    "    for i in range(0,n):\n",
    "        for j in range(0,n):\n",
    "            if distr[j]<distr[i] and j>i:\n",
    "                s_n+=1\n",
    "    #            \n",
    "    check = abs(s_n - n*(n-1)/4) \n",
    "    \n",
    "    if check > z_gamma:\n",
    "        return ['Cуперечить','check='+str(check),'z_gamma='+str(z_gamma)]\n",
    "    else:\n",
    "        return ['Не суперечить','check='+str(check),'z_gamma='+str(z_gamma)]"
   ]
  },
  {
   "cell_type": "markdown",
   "metadata": {},
   "source": [
    "Перевірка для різних n"
   ]
  },
  {
   "cell_type": "code",
   "execution_count": 14,
   "metadata": {},
   "outputs": [
    {
     "name": "stdout",
     "output_type": "stream",
     "text": [
      "n= 500 ['Cуперечить', 'check=30603.0', 'z_gamma=3652.177252402423']\n",
      "n= 5000 ['Cуперечить', 'check=1369237.0', 'z_gamma=115491.98536247316']\n",
      "n= 50000 ['Cуперечить', 'check=184637185.0', 'z_gamma=3652177.252402423']\n"
     ]
    }
   ],
   "source": [
    "for n in [500,5000,50000]:\n",
    "    ksi = np.random.uniform(-1,1,n)\n",
    "    X = np.zeros(n)\n",
    "    X[0] = ksi[0]\n",
    "    X[1:] = np.array([ np.sum(ksi[:i]) for i in range(1,n)])\n",
    "    print('n=',n,inversions_experiment(X))"
   ]
  }
 ],
 "metadata": {
  "kernelspec": {
   "display_name": "Python 3",
   "language": "python",
   "name": "python3"
  },
  "language_info": {
   "codemirror_mode": {
    "name": "ipython",
    "version": 3
   },
   "file_extension": ".py",
   "mimetype": "text/x-python",
   "name": "python",
   "nbconvert_exporter": "python",
   "pygments_lexer": "ipython3",
   "version": "3.7.4"
  }
 },
 "nbformat": 4,
 "nbformat_minor": 2
}
