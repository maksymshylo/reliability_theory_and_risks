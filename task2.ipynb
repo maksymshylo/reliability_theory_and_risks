{
 "cells": [
  {
   "cell_type": "code",
   "execution_count": 1,
   "metadata": {},
   "outputs": [],
   "source": [
    "import numpy as np\n",
    "from IPython.display import Image\n",
    "from scipy.stats import rankdata\n",
    "from IPython.core.display import HTML \n",
    "from scipy import stats\n",
    "import warnings\n",
    "from scipy.special import chdtri\n",
    "warnings.filterwarnings('ignore')"
   ]
  },
  {
   "cell_type": "code",
   "execution_count": 2,
   "metadata": {},
   "outputs": [],
   "source": [
    "gamma=0.05"
   ]
  },
  {
   "cell_type": "markdown",
   "metadata": {},
   "source": [
    "## Завдання 2. Перевірка гіпотези незалежності"
   ]
  },
  {
   "cell_type": "markdown",
   "metadata": {},
   "source": [
    "## A. `Критерій Хі-квадрат`"
   ]
  },
  {
   "cell_type": "code",
   "execution_count": 3,
   "metadata": {},
   "outputs": [
    {
     "data": {
      "text/html": [
       "<img src=\"https://nsu.ru/mmf/tvims/chernova/ms/lec/img1248.gif\"/>"
      ],
      "text/plain": [
       "<IPython.core.display.Image object>"
      ]
     },
     "execution_count": 3,
     "metadata": {},
     "output_type": "execute_result"
    }
   ],
   "source": [
    "Image(url= \"https://nsu.ru/mmf/tvims/chernova/ms/lec/img1248.gif\")"
   ]
  },
  {
   "cell_type": "code",
   "execution_count": 35,
   "metadata": {},
   "outputs": [
    {
     "data": {
      "image/png": "[encoded data removed]",
      "text/plain": [
       "<PIL.PngImagePlugin.PngImageFile image mode=RGBA size=548x372 at 0x29EDD803080>"
      ]
     },
     "execution_count": 35,
     "metadata": {},
     "output_type": "execute_result"
    }
   ],
   "source": [
    "from PIL import Image\n",
    "im = Image.open(\"C:/Users/Максим/Desktop/к.PNG\")\n",
    "im"
   ]
  },
  {
   "cell_type": "code",
   "execution_count": 21,
   "metadata": {},
   "outputs": [],
   "source": [
    "def chi_experiment(distr_1,distr_2):\n",
    "    n = len(distr_1)\n",
    "    r = int(10*n/1000)\n",
    "    k = int(10*n/1000)\n",
    "    sp_list_r = np.linspace(0,1,r) # розбиваємо на r проміжків\n",
    "    sp_list_k =  np.linspace(-1,2,k) #  розбиваємо на к проміжків\n",
    "    \n",
    "    z_gamma = chdtri((r-1)*(k-1),gamma) # критичне значення\n",
    "    # матриця ню\n",
    "    nu_mat = np.zeros((r,k))\n",
    "    for rt in range(1,r):\n",
    "        for kt in range(1,k):\n",
    "            count=0\n",
    "            for i in range(0,len(distr_1)):\n",
    "                if sp_list_r[rt-1]<distr_1[i]<sp_list_r[rt] and sp_list_k[kt-1]<distr_2[i]<sp_list_k[kt]:\n",
    "                    count+=1\n",
    "        nu_mat[rt][kt] = count\n",
    "        \n",
    "    #  рахуємо дельту\n",
    "    result=[]\n",
    "    for i in range(0,r):\n",
    "        for j in range(0,k):\n",
    "            result.append( (nu_mat[j,i] - np.sum(nu_mat[:,i])*np.sum(nu_mat[j,:])/n )**2/(np.sum(nu_mat[:,i])*np.sum(nu_mat[j,:])) ) \n",
    " \n",
    "    result = np.array(result)\n",
    "    result = result[~np.isnan(result)]\n",
    "    delta = np.sum(result)*n\n",
    "    \n",
    "    if delta > z_gamma:# перевірка гіпотези       \n",
    "        return ['Cуперечить','delta='+str(delta),'z_gamma='+str(z_gamma)]  \n",
    "    else:        \n",
    "        return ['Не суперечить','delta='+str(delta),'z_gamma='+str(z_gamma)] "
   ]
  },
  {
   "cell_type": "markdown",
   "metadata": {},
   "source": [
    "Перевірка для різних n"
   ]
  },
  {
   "cell_type": "code",
   "execution_count": 45,
   "metadata": {},
   "outputs": [
    {
     "name": "stdout",
     "output_type": "stream",
     "text": [
      "n= 500 r=k= 5.0\n",
      "n= 5000 r=k= 50.0\n",
      "n= 50000 r=k= 500.0\n"
     ]
    }
   ],
   "source": [
    "for n in [500,5000,50000]:\n",
    "    print('n=',n,'r=k=',10*n/1000)"
   ]
  },
  {
   "cell_type": "code",
   "execution_count": 22,
   "metadata": {},
   "outputs": [
    {
     "name": "stdout",
     "output_type": "stream",
     "text": [
      "n= 500 ['Cуперечить', 'delta=376.71200000000005', 'z_gamma=26.296227604864242']\n",
      "n= 5000 ['Cуперечить', 'delta=4986.009800000001', 'z_gamma=2516.10819332539']\n",
      "n= 50000 ['Cуперечить', 'delta=496328.0076000004', 'z_gamma=250162.89689565956']\n"
     ]
    }
   ],
   "source": [
    "for n in [500,5000,50000]:\n",
    "    ksi = np.random.uniform(0,1,n)\n",
    "    etta = np.random.uniform(-1,1,n)\n",
    "    X = ksi\n",
    "    Y = ksi + etta\n",
    "    print('n=',n,chi_experiment(X,Y))"
   ]
  },
  {
   "cell_type": "markdown",
   "metadata": {},
   "source": [
    "## В. `Критерій Спірмена`"
   ]
  },
  {
   "cell_type": "code",
   "execution_count": 25,
   "metadata": {},
   "outputs": [],
   "source": [
    "def spearman_experiment(distr_1,distr_2):\n",
    "    R,S = rankdata(distr_1),rankdata(distr_2)# ранги\n",
    "    ro_n = abs(1 - (6/(n*(n**2-1)))*np.sum((R-S)**2))# коеф.кореляції\n",
    "    \n",
    "    z_gamma = stats.norm.ppf(1-(gamma/2))/np.sqrt(n)# критичне значення\n",
    "    \n",
    "    if ro_n > z_gamma:# перевірка гіпотези       \n",
    "        return ['Cуперечить','ro_n='+str(ro_n),'z_gamma='+str(z_gamma)]  \n",
    "    else:        \n",
    "        return ['Не суперечить','ro_n='+str(ro_n),'z_gamma='+str(z_gamma)] "
   ]
  },
  {
   "cell_type": "markdown",
   "metadata": {},
   "source": [
    "Перевірка для різних n"
   ]
  },
  {
   "cell_type": "code",
   "execution_count": 26,
   "metadata": {},
   "outputs": [
    {
     "name": "stdout",
     "output_type": "stream",
     "text": [
      "n= 500 ['Cуперечить', 'ro_n=0.3873537734150937', 'z_gamma=0.08765225405765815']\n",
      "n= 5000 ['Cуперечить', 'ro_n=0.44712830047713203', 'z_gamma=0.027718076486993554']\n",
      "n= 50000 ['Cуперечить', 'ro_n=0.42123470743354985', 'z_gamma=0.008765225405765815']\n"
     ]
    }
   ],
   "source": [
    "for n in [500,5000,50000]:\n",
    "    ksi = np.random.uniform(0,1,n)\n",
    "    etta = np.random.uniform(-1,1,n)\n",
    "    X = ksi\n",
    "    Y = ksi + etta\n",
    "    print('n=',n,spearman_experiment(X,Y))"
   ]
  },
  {
   "cell_type": "markdown",
   "metadata": {},
   "source": [
    "## С. `Критерій Кендалла`"
   ]
  },
  {
   "cell_type": "code",
   "execution_count": 39,
   "metadata": {},
   "outputs": [],
   "source": [
    "def kendall_experiment(distr_1,distr_2):\n",
    "    n= len(distr_1)\n",
    "    R,S = rankdata(distr_1),rankdata(distr_2)# ранги\n",
    "    RS = np.stack((R,S)).T# пари рангів\n",
    "    sorted_dict = dict(sorted(dict(RS).items()))\n",
    "    iv = np.array(list(sorted_dict.items())).astype('int64')# масив (і,V)\n",
    "    # рахуємо N\n",
    "    z_gamma = 2*stats.norm.ppf(1-(gamma/2))/(3*np.sqrt(n)) # критичне значення\n",
    "    h= 0\n",
    "    for i in range(0,n):\n",
    "        for j in range(0,n):\n",
    "            if iv[i][1]<iv[j][1] and i<j:\n",
    "                h+=1            \n",
    "    tau_n = abs(4*h/(n*(n-1))-1)    \n",
    "    if tau_n > z_gamma:# перевірка гіпотези       \n",
    "        return ['Cуперечить','tau_n='+str(tau_n),'z_gamma='+str(z_gamma)]  \n",
    "    else:        \n",
    "        return ['Не суперечить','tau_n='+str(tau_n),'z_gamma='+str(z_gamma)] "
   ]
  },
  {
   "cell_type": "markdown",
   "metadata": {},
   "source": [
    "Перевірка для різних n"
   ]
  },
  {
   "cell_type": "code",
   "execution_count": 40,
   "metadata": {},
   "outputs": [
    {
     "name": "stdout",
     "output_type": "stream",
     "text": [
      "n= 500 ['Cуперечить', 'tau_n=0.3012745490981963', 'z_gamma=0.05843483603843876']\n",
      "n= 5000 ['Cуперечить', 'tau_n=0.29181932386477305', 'z_gamma=0.018478717657995705']\n",
      "n= 50000 ['Cуперечить', 'tau_n=0.2655791561384387', 'z_gamma=0.005843483603843878']\n"
     ]
    }
   ],
   "source": [
    "for n in [500,5000,50000]:\n",
    "    ksi = np.random.uniform(0,1,n)\n",
    "    etta = np.random.uniform(-1,1,n)\n",
    "    X = ksi\n",
    "    Y = ksi + etta\n",
    "    print('n=',n,kendall_experiment(X,Y))"
   ]
  }
 ],
 "metadata": {
  "kernelspec": {
   "display_name": "Python 3",
   "language": "python",
   "name": "python3"
  },
  "language_info": {
   "codemirror_mode": {
    "name": "ipython",
    "version": 3
   },
   "file_extension": ".py",
   "mimetype": "text/x-python",
   "name": "python",
   "nbconvert_exporter": "python",
   "pygments_lexer": "ipython3",
   "version": "3.7.4"
  }
 },
 "nbformat": 4,
 "nbformat_minor": 2
}
