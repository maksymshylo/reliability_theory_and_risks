{
 "cells": [
  {
   "cell_type": "markdown",
   "metadata": {},
   "source": [
    "## Лабораторна робота `№ 2`: перевірка статистичної гіпотези про вигляд розподілу і гіпотези однорідності "
   ]
  },
  {
   "cell_type": "code",
   "execution_count": 1,
   "metadata": {},
   "outputs": [],
   "source": [
    "from scipy import stats\n",
    "import numpy as np\n",
    "from scipy.special import kolmogi"
   ]
  },
  {
   "cell_type": "code",
   "execution_count": 2,
   "metadata": {},
   "outputs": [],
   "source": [
    "gamma = 0.05"
   ]
  },
  {
   "cell_type": "markdown",
   "metadata": {},
   "source": [
    "## Завдання `1`:  Критерій Колмогорова"
   ]
  },
  {
   "cell_type": "code",
   "execution_count": 3,
   "metadata": {},
   "outputs": [],
   "source": [
    "def exponen_ds(x,alpha): # функція екпоненціального розподілу\n",
    "    return 1-np.exp(-alpha*x)"
   ]
  },
  {
   "cell_type": "code",
   "execution_count": 31,
   "metadata": {},
   "outputs": [],
   "source": [
    "def kolmogorov_experiment(sample, alpha):\n",
    "    sample = np.sort(sample) # варіаційний ряд \n",
    "    n = len(sample)\n",
    "    k = np.array(range(1,n+1))\n",
    "    \n",
    "    d_plus = exponen_ds(sample,alpha) - (k-1)/n # знаходимо Dnm+\n",
    "    d_minus = k/n - exponen_ds(sample,alpha) # знаходимо Dnm-\n",
    "    \n",
    "    D_n = np.maximum(d_plus,d_minus).max()\n",
    "    krit = kolmogi(gamma)/np.sqrt(n) # критичне значення\n",
    "    if D_n > krit:\n",
    "        return ['Cуперечить','D_n='+str(D_n),'krit='+str(krit)]\n",
    "    else:\n",
    "        return ['Не суперечить','D_n='+str(D_n),'krit='+str(krit)]"
   ]
  },
  {
   "cell_type": "markdown",
   "metadata": {},
   "source": [
    "```\n",
    "а) Ho: X_i~F(u,1), коли насправді X_i~F(u,1)\n",
    "```"
   ]
  },
  {
   "cell_type": "code",
   "execution_count": 32,
   "metadata": {},
   "outputs": [
    {
     "name": "stdout",
     "output_type": "stream",
     "text": [
      "n =  1000 Результат: ['Не суперечить', 'D_n=0.017022088365959753', 'krit=0.042946849874347756']\n",
      "n =  10000 Результат: ['Не суперечить', 'D_n=0.007000510452766173', 'krit=0.013580986393225507']\n",
      "n =  100000 Результат: ['Не суперечить', 'D_n=0.0024906266768829344', 'krit=0.004294684987434775']\n"
     ]
    }
   ],
   "source": [
    "for i in [10**3,10**4,10**5]:\n",
    "    n=i\n",
    "    X = np.random.exponential(1,size = n)# вхідне alpha=1 \n",
    "    print('n = ',i,\"Результат:\",kolmogorov_experiment(X,alpha = 1)) #перевірка alpha=1"
   ]
  },
  {
   "cell_type": "markdown",
   "metadata": {},
   "source": [
    "```\n",
    "б) Ho: X_i~F(u,1), коли насправді X_i~F(u,1.2)\n",
    "```"
   ]
  },
  {
   "cell_type": "code",
   "execution_count": 35,
   "metadata": {},
   "outputs": [
    {
     "name": "stdout",
     "output_type": "stream",
     "text": [
      "n =  1000 Результат: ['Cуперечить', 'D_n=0.06969543031942305', 'krit=0.042946849874347756']\n",
      "n =  10000 Результат: ['Cуперечить', 'D_n=0.07332724668926438', 'krit=0.013580986393225507']\n",
      "n =  100000 Результат: ['Cуперечить', 'D_n=0.06983857866146748', 'krit=0.004294684987434775']\n"
     ]
    }
   ],
   "source": [
    "for i in [10**3,10**4,10**5]:\n",
    "    n=i\n",
    "    X = np.random.exponential(1,size = n)# вхідне alpha=1\n",
    "    print('n = ',i,\"Результат:\",kolmogorov_experiment(X,alpha = 1.2)) #перевірка alpha=1.2"
   ]
  },
  {
   "cell_type": "markdown",
   "metadata": {},
   "source": [
    "## Завдання `2`: Критерій Xі^2"
   ]
  },
  {
   "cell_type": "code",
   "execution_count": 4,
   "metadata": {},
   "outputs": [],
   "source": [
    "from scipy.special import chdtri"
   ]
  },
  {
   "cell_type": "code",
   "execution_count": 5,
   "metadata": {},
   "outputs": [],
   "source": [
    "def expon_probab(a,b,alpha): # теоретична ймовірність\n",
    "    return np.exp(-alpha*a) - np.exp(-alpha*b)"
   ]
  },
  {
   "cell_type": "code",
   "execution_count": 6,
   "metadata": {},
   "outputs": [],
   "source": [
    "def chi_experiment(X,alpha):\n",
    "    n = len(X)\n",
    "    r = int(20*n/1000)\n",
    "    \n",
    "    nu = []\n",
    "    teori_probab = []\n",
    "    split_list = np.linspace(0,10,r) #розбиття\n",
    "    \n",
    "    for i in range(1,len(split_list)):\n",
    "        a = X[X > split_list[i-1]]\n",
    "        b =  X[X < split_list[i]]\n",
    "        nu.append(np.intersect1d(a,b).shape[0])\n",
    "        teori_probab.append(expon_probab(split_list[i-1],split_list[i], alpha))   \n",
    "    \n",
    "    nu,teori_probab = np.array(nu),np.array(teori_probab)\n",
    "    \n",
    "    delta = np.sum(((nu - n*teori_probab)**2)/(n*teori_probab)) # рахуємо дельту\n",
    "    krit = chdtri(r-1,gamma)# критичне значення\n",
    "    if delta > krit:\n",
    "        return ['Cуперечить','delta='+str(delta),'krit='+str(krit)]\n",
    "    else:\n",
    "        return ['Не суперечить','delta='+str(delta),'krit='+str(krit)]"
   ]
  },
  {
   "cell_type": "markdown",
   "metadata": {},
   "source": [
    "```\n",
    "а) Ho: X_i~F(u,1), коли насправді X_i~F(u,1)\n",
    "```"
   ]
  },
  {
   "cell_type": "code",
   "execution_count": 18,
   "metadata": {},
   "outputs": [
    {
     "name": "stdout",
     "output_type": "stream",
     "text": [
      "n =  1000 Результат: ['Не суперечить', 'delta=11.073709579655091', 'krit=30.143527205646155']\n",
      "n =  10000 Результат: ['Не суперечить', 'delta=143.62870473184626', 'krit=232.91182176847585']\n",
      "n =  100000 Результат: ['Не суперечить', 'delta=2032.1325562879938', 'krit=2104.128222359781']\n"
     ]
    }
   ],
   "source": [
    "for i in [10**3,10**4,10**5]:\n",
    "    n=i\n",
    "    X = np.random.exponential(1,size = n) #вхідне альфа 1\n",
    "    print('n = ',i,\"Результат:\",chi_experiment(X,1))#перевірка alpha=1"
   ]
  },
  {
   "cell_type": "markdown",
   "metadata": {},
   "source": [
    "```\n",
    "б) Ho: X_i~F(u,1), коли насправді X_i~F(u,1.2)\n",
    "```"
   ]
  },
  {
   "cell_type": "code",
   "execution_count": 19,
   "metadata": {},
   "outputs": [
    {
     "name": "stdout",
     "output_type": "stream",
     "text": [
      "n =  1000 Результат: ['Cуперечить', 'delta=52.86215425094681', 'krit=30.143527205646155']\n",
      "n =  10000 Результат: ['Cуперечить', 'delta=970.5218592473534', 'krit=232.91182176847585']\n",
      "n =  100000 Результат: ['Cуперечить', 'delta=8732.178426763148', 'krit=2104.128222359781']\n"
     ]
    }
   ],
   "source": [
    "for i in [10**3,10**4,10**5]:\n",
    "    n=i\n",
    "    X = np.random.exponential(1,size = n)# вхідне alpha=1\n",
    "    print('n = ',i,\"Результат:\",chi_experiment(X,1.2))#перевірка alpha=1.2"
   ]
  },
  {
   "cell_type": "markdown",
   "metadata": {},
   "source": [
    "## Завдання `3`: Критерій пустих ящиків"
   ]
  },
  {
   "cell_type": "code",
   "execution_count": 20,
   "metadata": {},
   "outputs": [],
   "source": [
    "def empty_boxes_experiment(distr,alpha):\n",
    "    n  = len(distr)\n",
    "    ro = 2\n",
    "    r  = int(n/2)\n",
    "    \n",
    "    m = np.exp(-ro)# мат.очікування\n",
    "    sigma2 = np.exp(-ro)*(1-(1+ro)*np.exp(-ro))# дисперсія\n",
    "    \n",
    "    z_gamma = stats.norm.ppf(0.5-gamma) \n",
    "    \n",
    "    split_list = np.linspace(0,1,r) # розбиття\n",
    "    \n",
    "    Y = exponen_ds(distr,alpha)\n",
    "    check = r*m +z_gamma*np.sqrt(r)*np.sqrt(sigma2)# критичне значення\n",
    "    nu = 0\n",
    "    for i in range(1,len(split_list)):\n",
    "        a = Y[Y > split_list[i-1]]\n",
    "        b = Y[Y < split_list[i]]\n",
    "        if np.intersect1d(a,b).shape[0] ==0:\n",
    "            nu+=1\n",
    "    if nu > check:\n",
    "        return ['Cуперечить','nu='+str(nu),'krit='+str(check)]\n",
    "    else:\n",
    "        return ['Не суперечить','nu='+str(nu),'krit='+str(check)]"
   ]
  },
  {
   "cell_type": "markdown",
   "metadata": {},
   "source": [
    "```\n",
    "а) Ho: X_i~F(u,1), коли насправді X_i~F(u,1)\n",
    "```"
   ]
  },
  {
   "cell_type": "code",
   "execution_count": 14,
   "metadata": {},
   "outputs": [
    {
     "name": "stdout",
     "output_type": "stream",
     "text": [
      "n =  1000 Результат: ['Не суперечить', 'nu=64', 'krit=66.87096271929707']\n",
      "n =  10000 Результат: ['Не суперечить', 'nu=667', 'krit=674.157096298399']\n",
      "n =  100000 Результат: ['Не суперечить', 'nu=6743', 'krit=6758.797372840542']\n"
     ]
    }
   ],
   "source": [
    "for i in [10**3,10**4,10**5]:\n",
    "    n=i\n",
    "    X = np.random.exponential(1,size = n)# вхідне alpha=1\n",
    "    print('n = ',i,\"Результат:\",empty_boxes_experiment(X, 1))#перевірка alpha=1.2"
   ]
  },
  {
   "cell_type": "markdown",
   "metadata": {},
   "source": [
    "```\n",
    "б) Ho: X_i~F(u,1), коли насправді X_i~F(u,1.2)\n",
    "```"
   ]
  },
  {
   "cell_type": "code",
   "execution_count": 21,
   "metadata": {},
   "outputs": [
    {
     "name": "stdout",
     "output_type": "stream",
     "text": [
      "n =  1000 Результат: ['Cуперечить', 'nu=68', 'krit=66.87096271929707']\n",
      "n =  10000 Результат: ['Cуперечить', 'nu=757', 'krit=674.157096298399']\n",
      "n =  100000 Результат: ['Cуперечить', 'nu=6815', 'krit=6758.797372840542']\n"
     ]
    }
   ],
   "source": [
    "for i in [10**3,10**4,10**5]:\n",
    "    n=i\n",
    "    X = np.random.exponential(1,size = n)#вхідне alpha=1\n",
    "    print('n = ',i,\"Результат:\",empty_boxes_experiment(X, 1.2))#перевірка alpha=1.2"
   ]
  },
  {
   "cell_type": "markdown",
   "metadata": {},
   "source": [
    "## Завдання `4`: Критерій однорідності Смирнова "
   ]
  },
  {
   "cell_type": "code",
   "execution_count": 24,
   "metadata": {},
   "outputs": [],
   "source": [
    "#емпірична функція розподілу\n",
    "def F(u,X):\n",
    "    return X[X<u].shape[0]/len(X)"
   ]
  },
  {
   "cell_type": "code",
   "execution_count": 27,
   "metadata": {},
   "outputs": [],
   "source": [
    "def smirnov_test(distr_1,distr_2):\n",
    "    distr_1 = np.sort(distr_1)\n",
    "    distr_2 = np.sort(distr_2)\n",
    "    \n",
    "    n = len(distr_1)\n",
    "    m =len(distr_2)\n",
    "    \n",
    "    z_gamma = kolmogi(gamma)\n",
    "    krit = z_gamma*np.sqrt(1/n + 1/m)# критичне значення\n",
    "    \n",
    "    d_plus =  max([k/m-F(distr_2[k-1],distr_1)      for k in range(1,m+1)])# знаходимо Dnm+\n",
    "    d_minus = max([F(distr_2[k-1],distr_1)-(k-1)/m  for k in range(1,m+1)])# знаходимо Dnm-\n",
    "    \n",
    "    d = max([d_plus,d_minus])#D\n",
    "    \n",
    "    if d > krit:\n",
    "        return ['Cуперечить','D='+str(d),'krit='+str(krit)]\n",
    "    else:\n",
    "        return ['Не суперечить','D='+str(d),'krit='+str(krit)]\n"
   ]
  },
  {
   "cell_type": "markdown",
   "metadata": {},
   "source": [
    "-----------------------------\n",
    "```\n",
    "Ho: X_1 = (x_1_1,x_1_2,...x_1_n)~F(u,1)\n",
    "    X_2 = (x_2_1,x_2_2,...x_2_n)~F(u,1)\n",
    "Насправді X_1~F(u,1), X_2~F(u,1)\n",
    "```"
   ]
  },
  {
   "cell_type": "code",
   "execution_count": 28,
   "metadata": {},
   "outputs": [
    {
     "name": "stdout",
     "output_type": "stream",
     "text": [
      "n =  1000 Результат: ['Не суперечить', 'D=0.04200000000000001', 'krit=0.07438612600740337']\n",
      "n =  10000 Результат: ['Не суперечить', 'D=0.0131', 'krit=0.023522958449968174']\n",
      "n =  100000 Результат: ['Не суперечить', 'D=0.003129999999999966', 'krit=0.007438612600740337']\n"
     ]
    }
   ],
   "source": [
    "for i in [10**3,10**4,10**5]:\n",
    "    n=i\n",
    "    X = np.random.exponential(1,size=n)# перший розподіл alpha=1\n",
    "    Y = np.random.exponential(1,size=int(n/2))# другий розподіл alpha=1\n",
    "    print('n = ',i,\"Результат:\",smirnov_test(X,Y))# перевірка на однорідність"
   ]
  },
  {
   "cell_type": "markdown",
   "metadata": {},
   "source": [
    "---------------------------\n",
    "```\n",
    "Ho: X_1 = (x_1_1,x_1_2,...x_1_n)~F(u,1)\n",
    "    X_2 = (x_2_1,x_2_2,...x_2_n)~F(u,1)\n",
    "Насправді X_1~F(u,1), X_2~F(u,1.2)\n",
    "```"
   ]
  },
  {
   "cell_type": "code",
   "execution_count": 30,
   "metadata": {},
   "outputs": [
    {
     "name": "stdout",
     "output_type": "stream",
     "text": [
      "n =  1000 Результат: ['Cуперечить', 'D=0.12699999999999995', 'krit=0.07438612600740337']\n",
      "n =  10000 Результат: ['Cуперечить', 'D=0.06690000000000002', 'krit=0.023522958449968174']\n",
      "n =  100000 Результат: ['Cуперечить', 'D=0.07123000000000002', 'krit=0.007438612600740337']\n"
     ]
    }
   ],
   "source": [
    "for i in [10**3,10**4,10**5]:\n",
    "    n=i\n",
    "    X = np.random.exponential(1,size=n)# перший розподіл alpha=1\n",
    "    Y = np.random.exponential(1.2,size=int(n/2))# другий розподіл alpha=1.2\n",
    "    print('n = ',i,\"Результат:\",smirnov_test(X,Y))# перевірка на однорідність"
   ]
  }
 ],
 "metadata": {
  "kernelspec": {
   "display_name": "Python 3",
   "language": "python",
   "name": "python3"
  },
  "language_info": {
   "codemirror_mode": {
    "name": "ipython",
    "version": 3
   },
   "file_extension": ".py",
   "mimetype": "text/x-python",
   "name": "python",
   "nbconvert_exporter": "python",
   "pygments_lexer": "ipython3",
   "version": "3.7.4"
  }
 },
 "nbformat": 4,
 "nbformat_minor": 2
}
