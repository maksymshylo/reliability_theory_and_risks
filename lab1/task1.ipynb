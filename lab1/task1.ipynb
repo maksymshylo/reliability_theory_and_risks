{
 "cells": [
  {
   "cell_type": "markdown",
   "metadata": {},
   "source": [
    "## Лабораторна робота № 1: `побудова довірчих інтервалів`"
   ]
  },
  {
   "cell_type": "markdown",
   "metadata": {},
   "source": [
    "### Завдання 1"
   ]
  },
  {
   "cell_type": "code",
   "execution_count": 2,
   "metadata": {},
   "outputs": [],
   "source": [
    "import numpy as np\n",
    "from scipy import stats\n",
    "from scipy.integrate import quad\n",
    "import scipy.integrate as integrate\n",
    "from numpy import sqrt, exp\n",
    "import pandas as pd\n",
    "import matplotlib.pyplot as plt\n",
    "%matplotlib inline\n",
    "gamma = 0.01"
   ]
  },
  {
   "cell_type": "markdown",
   "metadata": {},
   "source": [
    "### Побудувати довірчий інтервал для математичного сподівання a у припущенні, що спостерігаються в.в. {Xi} , які мають нормальний розподіл, але дисперсія sigma**2 невідома"
   ]
  },
  {
   "cell_type": "code",
   "execution_count": 2,
   "metadata": {},
   "outputs": [],
   "source": [
    "def part1a(n):\n",
    "    x = np.random.normal(0,1,size=n) # генеруємо  нормальний розподіл від 0 до 1 розміру n\n",
    "    a_x = x.mean() # знаходимо середнє \n",
    "    sigma2_x = (1/n)*(np.sum((x-a_x)**2)) # дисперсія\n",
    "    sigma_x = np.sqrt(sigma2_x) # корінь дисрепрсії\n",
    "    z_gamma = stats.t.ppf(1-(gamma/2),n) \n",
    "    l = a_x -  (z_gamma*sigma_x)/(np.sqrt(n-1)) # лівий кінець\n",
    "    r = a_x +  (z_gamma*sigma_x)/(np.sqrt(n-1)) # правий кінець\n",
    "    interval = [l,r]\n",
    "    return interval"
   ]
  },
  {
   "cell_type": "code",
   "execution_count": 3,
   "metadata": {},
   "outputs": [],
   "source": [
    "def testing_part1a(number,dataset_size):\n",
    "    for i in range(number):\n",
    "        interval = part1a(dataset_size)\n",
    "        #print(\"width\", abs(interval[0]-interval[1]))\n",
    "        if interval[0] < 0 and interval[1] > 0:\n",
    "            return (True, abs(interval[0]-interval[1]))\n",
    "        else:\n",
    "            return (False,abs(interval[0]-interval[1]))"
   ]
  },
  {
   "cell_type": "markdown",
   "metadata": {},
   "source": [
    "### Побудувати довірчий інтервал для математичного сподівання a у припущенні, що спостерігаються в.в. {Xi} , розподіл яких невідомий"
   ]
  },
  {
   "cell_type": "code",
   "execution_count": 4,
   "metadata": {},
   "outputs": [],
   "source": [
    "def part1b(n):\n",
    "    x = np.random.normal(0,1,size=n)\n",
    "    a_x = x.mean()\n",
    "    sigma2_x = (1/n)*(np.sum((x-a_x)**2))\n",
    "    sigma_x = np.sqrt(sigma2_x)\n",
    "    z_gamma = stats.norm.ppf(1-(gamma/2))\n",
    "    l = a_x -  (z_gamma*sigma_x)/(np.sqrt(n))\n",
    "    r = a_x +  (z_gamma*sigma_x)/(np.sqrt(n))\n",
    "    interval = [l,r]\n",
    "    return interval"
   ]
  },
  {
   "cell_type": "code",
   "execution_count": 5,
   "metadata": {},
   "outputs": [],
   "source": [
    "def testing_part1b(number,dataset_size):\n",
    "    for i in range(number):\n",
    "        interval = part1b(dataset_size)\n",
    "        #print(\"width\", abs(interval[0]-interval[1]))\n",
    "        if interval[0] < 0 and interval[1] > 0:\n",
    "            return (True, abs(interval[0]-interval[1]))\n",
    "        else:\n",
    "            return (False,abs(interval[0]-interval[1]))"
   ]
  },
  {
   "cell_type": "markdown",
   "metadata": {},
   "source": [
    "### Побудувати довірчий інтервал для дисперсії sigma**2 у припущенні, що спостерігаються в.в. {Xi}  , які мають нормальний розподіл."
   ]
  },
  {
   "cell_type": "code",
   "execution_count": 6,
   "metadata": {},
   "outputs": [],
   "source": [
    "def part1c(n):\n",
    "    x = np.random.normal(0,1,size=n)\n",
    "    a_x = x.mean()\n",
    "    sigma2_x = (1/n)*(np.sum((x-a_x)**2))\n",
    "    z_gamma_1 = stats.chi2.ppf(1-(gamma/2),n-1)\n",
    "    z_gamma_2 = stats.chi2.ppf((gamma/2),n-1)\n",
    "    l = (n*sigma2_x)/z_gamma_1\n",
    "    r = (n*sigma2_x)/z_gamma_2\n",
    "    interval = [l,r]\n",
    "    return interval"
   ]
  },
  {
   "cell_type": "code",
   "execution_count": 7,
   "metadata": {},
   "outputs": [],
   "source": [
    "def testing_part1c(number,dataset_size):\n",
    "    for i in range(number):\n",
    "        interval = part1c(dataset_size)\n",
    "        #print(\"width\", abs(interval[0]-interval[1]))\n",
    "        if interval[0] < 1 and interval[1] > 1:\n",
    "            return (True, abs(interval[0]-interval[1]))\n",
    "        else:\n",
    "            return (False, abs(interval[0]-interval[1]))"
   ]
  },
  {
   "cell_type": "code",
   "execution_count": 8,
   "metadata": {},
   "outputs": [
    {
     "data": {
      "text/html": [
       "<div>\n",
       "<style scoped>\n",
       "    .dataframe tbody tr th:only-of-type {\n",
       "        vertical-align: middle;\n",
       "    }\n",
       "\n",
       "    .dataframe tbody tr th {\n",
       "        vertical-align: top;\n",
       "    }\n",
       "\n",
       "    .dataframe thead th {\n",
       "        text-align: right;\n",
       "    }\n",
       "</style>\n",
       "<table border=\"1\" class=\"dataframe\">\n",
       "  <thead>\n",
       "    <tr style=\"text-align: right;\">\n",
       "      <th></th>\n",
       "      <th>N</th>\n",
       "      <th>Width_A</th>\n",
       "      <th>Result_A</th>\n",
       "      <th>Width_B</th>\n",
       "      <th>Result_B</th>\n",
       "      <th>Width_C</th>\n",
       "      <th>Result_C</th>\n",
       "    </tr>\n",
       "  </thead>\n",
       "  <tbody>\n",
       "    <tr>\n",
       "      <td>0</td>\n",
       "      <td>100</td>\n",
       "      <td>0.495673</td>\n",
       "      <td>True</td>\n",
       "      <td>0.504952</td>\n",
       "      <td>True</td>\n",
       "      <td>0.864123</td>\n",
       "      <td>True</td>\n",
       "    </tr>\n",
       "    <tr>\n",
       "      <td>1</td>\n",
       "      <td>10000</td>\n",
       "      <td>0.051617</td>\n",
       "      <td>True</td>\n",
       "      <td>0.051497</td>\n",
       "      <td>True</td>\n",
       "      <td>0.074683</td>\n",
       "      <td>True</td>\n",
       "    </tr>\n",
       "    <tr>\n",
       "      <td>2</td>\n",
       "      <td>1000000</td>\n",
       "      <td>0.005153</td>\n",
       "      <td>True</td>\n",
       "      <td>0.005155</td>\n",
       "      <td>True</td>\n",
       "      <td>0.007304</td>\n",
       "      <td>True</td>\n",
       "    </tr>\n",
       "  </tbody>\n",
       "</table>\n",
       "</div>"
      ],
      "text/plain": [
       "         N   Width_A  Result_A   Width_B  Result_B   Width_C  Result_C\n",
       "0      100  0.495673      True  0.504952      True  0.864123      True\n",
       "1    10000  0.051617      True  0.051497      True  0.074683      True\n",
       "2  1000000  0.005153      True  0.005155      True  0.007304      True"
      ]
     },
     "execution_count": 8,
     "metadata": {},
     "output_type": "execute_result"
    }
   ],
   "source": [
    "def view():\n",
    "    a1,a2,a3 = testing_part1a(3,100), testing_part1a(3,10000),testing_part1a(3,1000000)\n",
    "    b1,b2,b3 = testing_part1b(3,100), testing_part1b(3,10000),testing_part1b(3,1000000)\n",
    "    c1,c2,c3 = testing_part1c(3,100), testing_part1c(3,10000),testing_part1c(3,1000000)\n",
    "\n",
    "    res = pd.DataFrame({'N':[100,10**4,10**6], 'Width_A':[a1[1],a2[1],a3[1]],'Result_A': [a1[0],a2[0],a3[0]],\n",
    "                                               'Width_B':[b1[1],b2[1],b3[1]],'Result_B': [b1[0],b2[0],b3[0]],\n",
    "                                               'Width_C':[c1[1],c2[1],c3[1]],'Result_C': [c1[0],c2[0],c3[0]] })\n",
    "    return res\n",
    "view()"
   ]
  }
 ],
 "metadata": {
  "kernelspec": {
   "display_name": "Python 3",
   "language": "python",
   "name": "python3"
  },
  "language_info": {
   "codemirror_mode": {
    "name": "ipython",
    "version": 3
   },
   "file_extension": ".py",
   "mimetype": "text/x-python",
   "name": "python",
   "nbconvert_exporter": "python",
   "pygments_lexer": "ipython3",
   "version": "3.7.4"
  }
 },
 "nbformat": 4,
 "nbformat_minor": 2
}
