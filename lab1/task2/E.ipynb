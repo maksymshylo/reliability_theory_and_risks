{
 "cells": [
  {
   "cell_type": "markdown",
   "metadata": {},
   "source": [
    "## E"
   ]
  },
  {
   "cell_type": "markdown",
   "metadata": {},
   "source": [
    "### Результати, що мають вийти\n",
    "```\n",
    "Method 4\n",
    " \n",
    "gamma = 0,99  z_gamma = 2,575  epsilon = 0,01\n",
    "alpha = 1     Prob = 0,454860808993451      Var = 0,195361794588901  N_req = 62610\n",
    "Time used = 00:00:00.0344017\n",
    "\n",
    "        \n",
    " \n",
    "gamma = 0,99  z_gamma = 2,575  epsilon = 0,01\n",
    "alpha = 0,1     Prob = 0,00019957181134449      Var = 1,40569828370587E-13  N_req = 1\n",
    "Time used = 00:00:00.0000175\n",
    "\n",
    "     \n",
    " \n",
    "gamma = 0,99  z_gamma = 2,575  epsilon = 0,01\n",
    "alpha = 0,01     Prob = 1,9999999118218E-08      Var = 4,93038065763132E-31  N_req = 1\n",
    "Time used = 00:00:00.0000058\n",
    "```"
   ]
  },
  {
   "cell_type": "code",
   "execution_count": 6,
   "metadata": {},
   "outputs": [],
   "source": [
    "def sigma_E(n,alpha):\n",
    "    theta1 = np.random.exponential(1,size=n)\n",
    "    theta2 = np.random.exponential(1,size=n)\n",
    "    theta3 = np.random.exponential(1,size=n)\n",
    "\n",
    "    beta = np.sqrt(theta1 + theta2+theta3)\n",
    "    q = 2*(1/(beta**4))*(1 - exp(-(alpha*beta)**4))\n",
    "    Q = np.sum(q)/n\n",
    "    sigma2 = (np.sum(q**2) - n*Q**2)/(n-1)\n",
    "    return (sigma2,Q)"
   ]
  },
  {
   "cell_type": "code",
   "execution_count": 7,
   "metadata": {},
   "outputs": [
    {
     "data": {
      "image/png": "[encoded data removed]",
      "text/plain": [
       "<Figure size 432x288 with 1 Axes>"
      ]
     },
     "metadata": {
      "needs_background": "light"
     },
     "output_type": "display_data"
    }
   ],
   "source": [
    "n_list  = np.arange(100,10**5,10**3)\n",
    "sigma_list = [sigma_E(i,alpha=1)[0] for i in n_list]\n",
    "plt.plot(n_list,sigma_list)\n",
    "plt.show()"
   ]
  },
  {
   "cell_type": "code",
   "execution_count": null,
   "metadata": {},
   "outputs": [],
   "source": [
    "#alpha==1 "
   ]
  },
  {
   "cell_type": "code",
   "execution_count": 16,
   "metadata": {},
   "outputs": [
    {
     "data": {
      "text/plain": [
       "62629"
      ]
     },
     "execution_count": 16,
     "metadata": {},
     "output_type": "execute_result"
    }
   ],
   "source": [
    "n0 = 60000 \n",
    "data = sigma_E(n0,alpha=1)\n",
    "n_ =  int(z_gamma2*data[0]/(eps2*(data[1]**2)))+1\n",
    "n_   "
   ]
  },
  {
   "cell_type": "code",
   "execution_count": 17,
   "metadata": {},
   "outputs": [
    {
     "data": {
      "text/plain": [
       "(0.19698040681800263, 0.45504672681801017)"
      ]
     },
     "execution_count": 17,
     "metadata": {},
     "output_type": "execute_result"
    }
   ],
   "source": [
    "sigma_E(n_,alpha=1)"
   ]
  },
  {
   "cell_type": "code",
   "execution_count": 18,
   "metadata": {},
   "outputs": [],
   "source": [
    "#alpha==0.1"
   ]
  },
  {
   "cell_type": "code",
   "execution_count": 42,
   "metadata": {},
   "outputs": [
    {
     "name": "stdout",
     "output_type": "stream",
     "text": [
      "2\n"
     ]
    }
   ],
   "source": [
    "n0 = 1 \n",
    "data = sigma_E(n0,alpha=0.1)\n",
    "n_ =  int(z_gamma2*data[0]/(eps2*(data[1]**2)))+1\n",
    "n_  "
   ]
  },
  {
   "cell_type": "code",
   "execution_count": 38,
   "metadata": {},
   "outputs": [
    {
     "data": {
      "text/plain": [
       "(1.4586829294142579e-15, 0.00019994790256484024)"
      ]
     },
     "execution_count": 38,
     "metadata": {},
     "output_type": "execute_result"
    }
   ],
   "source": [
    "sigma_E(n_,alpha=0.1)"
   ]
  },
  {
   "cell_type": "code",
   "execution_count": null,
   "metadata": {},
   "outputs": [],
   "source": [
    "#alpha==0.01"
   ]
  },
  {
   "cell_type": "code",
   "execution_count": 44,
   "metadata": {},
   "outputs": [
    {
     "name": "stdout",
     "output_type": "stream",
     "text": [
      "2\n"
     ]
    }
   ],
   "source": [
    "n0 = 1 \n",
    "data = sigma_E(n0,alpha=0.01)\n",
    "n_ =  int(z_gamma2*data[0]/(eps2*(data[1]**2)))+1\n",
    "n_"
   ]
  },
  {
   "cell_type": "code",
   "execution_count": 46,
   "metadata": {},
   "outputs": [
    {
     "data": {
      "text/plain": [
       "(0.0, 1.9999999747927952e-08)"
      ]
     },
     "execution_count": 46,
     "metadata": {},
     "output_type": "execute_result"
    }
   ],
   "source": [
    "sigma_E(n_,alpha=0.01)"
   ]
  }
 ],
 "metadata": {
  "kernelspec": {
   "display_name": "Python 3",
   "language": "python",
   "name": "python3"
  },
  "language_info": {
   "codemirror_mode": {
    "name": "ipython",
    "version": 3
   },
   "file_extension": ".py",
   "mimetype": "text/x-python",
   "name": "python",
   "nbconvert_exporter": "python",
   "pygments_lexer": "ipython3",
   "version": "3.7.4"
  }
 },
 "nbformat": 4,
 "nbformat_minor": 2
}
