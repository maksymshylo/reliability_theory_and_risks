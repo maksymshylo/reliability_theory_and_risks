{
 "cells": [
  {
   "cell_type": "markdown",
   "metadata": {},
   "source": [
    "## D"
   ]
  },
  {
   "cell_type": "markdown",
   "metadata": {},
   "source": [
    "### Результати, що мають вийти\n",
    "```\n",
    "Method 3\n",
    " \n",
    "gamma = 0,99  z_gamma = 2,575  epsilon = 0,01\n",
    "alpha = 1     Prob = 0,457552039446947      Var = 0,140276390895376  N_req = 44429\n",
    "Time used = 00:00:00.0169812\n",
    "        \n",
    " \n",
    "gamma = 0,99  z_gamma = 2,575  epsilon = 0,01\n",
    "alpha = 0,1     Prob = 0,000199684441641198      Var = 1,95101409767694E-07  N_req = 324435\n",
    "Time used = 00:00:00.1401558\n",
    "     \n",
    " \n",
    "gamma = 0,99  z_gamma = 2,575  epsilon = 0,01\n",
    "alpha = 0,01     Prob = 1,99528464218615E-08      Var = 1,98087642291304E-15  N_req = 329916\n",
    "Time used = 00:00:00.1453256\n",
    "\n",
    "```"
   ]
  },
  {
   "cell_type": "code",
   "execution_count": 9,
   "metadata": {},
   "outputs": [],
   "source": [
    "def F(x,alpha):\n",
    "    return (1-exp(-(x*alpha)**4))"
   ]
  },
  {
   "cell_type": "code",
   "execution_count": 10,
   "metadata": {},
   "outputs": [],
   "source": [
    "def sigma_D(n,alpha):\n",
    "    w = np.random.uniform(0,1,size=n)\n",
    "    eta = np.power(-np.log(w),1/2)\n",
    "    q = F(eta, alpha)\n",
    "    Q = np.sum(q)/n\n",
    "    sigma2 = (np.sum(q**2) - n*Q**2)/(n-1)\n",
    "    return (sigma2,Q)"
   ]
  },
  {
   "cell_type": "code",
   "execution_count": 13,
   "metadata": {},
   "outputs": [],
   "source": [
    "#alpha==1 "
   ]
  },
  {
   "cell_type": "code",
   "execution_count": 11,
   "metadata": {},
   "outputs": [
    {
     "data": {
      "text/plain": [
       "44926"
      ]
     },
     "execution_count": 11,
     "metadata": {},
     "output_type": "execute_result"
    }
   ],
   "source": [
    "n0 = 40000  #alpha==1  \n",
    "data = sigma_D(n0,alpha=1)\n",
    "n_ =  int(z_gamma2*data[0]/(eps2*(data[1]**2)))+1\n",
    "n_   "
   ]
  },
  {
   "cell_type": "code",
   "execution_count": 12,
   "metadata": {},
   "outputs": [
    {
     "data": {
      "text/plain": [
       "(0.14111306044018962, 0.4561994561733902)"
      ]
     },
     "execution_count": 12,
     "metadata": {},
     "output_type": "execute_result"
    }
   ],
   "source": [
    "sigma_D(n_, alpha=1)"
   ]
  },
  {
   "cell_type": "code",
   "execution_count": null,
   "metadata": {},
   "outputs": [],
   "source": [
    "# alpha = 0.1"
   ]
  },
  {
   "cell_type": "code",
   "execution_count": 14,
   "metadata": {},
   "outputs": [
    {
     "data": {
      "text/plain": [
       "333597"
      ]
     },
     "execution_count": 14,
     "metadata": {},
     "output_type": "execute_result"
    }
   ],
   "source": [
    "n0 = 320000  #alpha==0.1  \n",
    "data = sigma_D(n0,alpha=0.1)\n",
    "n_ =  int(z_gamma2*data[0]/(eps2*(data[1]**2)))+1\n",
    "n_   "
   ]
  },
  {
   "cell_type": "code",
   "execution_count": 15,
   "metadata": {},
   "outputs": [
    {
     "data": {
      "text/plain": [
       "(2.0235784510449108e-07, 0.00020039162738185576)"
      ]
     },
     "execution_count": 15,
     "metadata": {},
     "output_type": "execute_result"
    }
   ],
   "source": [
    "sigma_D(n_, alpha=0.1)"
   ]
  },
  {
   "cell_type": "code",
   "execution_count": 16,
   "metadata": {},
   "outputs": [],
   "source": [
    "# alpha = 0.01"
   ]
  },
  {
   "cell_type": "code",
   "execution_count": 17,
   "metadata": {},
   "outputs": [
    {
     "data": {
      "text/plain": [
       "344201"
      ]
     },
     "execution_count": 17,
     "metadata": {},
     "output_type": "execute_result"
    }
   ],
   "source": [
    "n0 = 320000  #alpha==0.01  \n",
    "data = sigma_D(n0,alpha=0.01)\n",
    "n_ =  int(z_gamma2*data[0]/(eps2*(data[1]**2)))+1\n",
    "n_   "
   ]
  },
  {
   "cell_type": "code",
   "execution_count": 18,
   "metadata": {},
   "outputs": [
    {
     "data": {
      "text/plain": [
       "(1.9433509079950794e-15, 1.9964142938892034e-08)"
      ]
     },
     "execution_count": 18,
     "metadata": {},
     "output_type": "execute_result"
    }
   ],
   "source": [
    "sigma_D(n_, alpha=0.01)"
   ]
  }
 ],
 "metadata": {
  "kernelspec": {
   "display_name": "Python 3",
   "language": "python",
   "name": "python3"
  },
  "language_info": {
   "codemirror_mode": {
    "name": "ipython",
    "version": 3
   },
   "file_extension": ".py",
   "mimetype": "text/x-python",
   "name": "python",
   "nbconvert_exporter": "python",
   "pygments_lexer": "ipython3",
   "version": "3.7.4"
  }
 },
 "nbformat": 4,
 "nbformat_minor": 2
}
