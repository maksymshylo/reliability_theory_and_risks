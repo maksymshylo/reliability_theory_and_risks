{
 "cells": [
  {
   "cell_type": "markdown",
   "metadata": {},
   "source": [
    "## B"
   ]
  },
  {
   "cell_type": "code",
   "execution_count": 1,
   "metadata": {},
   "outputs": [],
   "source": [
    "import numpy as np\n",
    "from scipy import stats\n",
    "from scipy.integrate import quad\n",
    "import scipy.integrate as integrate\n",
    "from numpy import sqrt, exp\n",
    "import pandas as pd\n",
    "import matplotlib.pyplot as plt\n",
    "%matplotlib inline\n",
    "gamma = 0.01"
   ]
  },
  {
   "cell_type": "markdown",
   "metadata": {},
   "source": [
    "### Результати, що мають вийти\n",
    "```\n",
    "Method 1  (Monte Carlo method)\n",
    " \n",
    "gamma = 0,99  z_gamma = 2,575  epsilon = 0,01\n",
    "alpha = 1     Prob = 0,454526854547315      Var = 0,247932217835858  N_req = 79574\n",
    "Time used = 00:00:02.2683796\n",
    "        \n",
    " \n",
    "gamma = 0,99  z_gamma = 2,575  epsilon = 0,01\n",
    "alpha = 0,1     Prob = 0,000200469121270386      Var = 0,000200428934007897  N_req = 330689123\n",
    "Time used = 00:02:13.2619116\n",
    "```"
   ]
  },
  {
   "cell_type": "code",
   "execution_count": 2,
   "metadata": {},
   "outputs": [],
   "source": [
    "def integrand(x,alpha):\n",
    "    return (1-exp(-(x*alpha)**4))*x*exp(-(x**2))  # рахуємо інтеграл"
   ]
  },
  {
   "cell_type": "code",
   "execution_count": 11,
   "metadata": {},
   "outputs": [],
   "source": [
    "z_gamma2 = 2.575**2\n",
    "eps2 = 0.01**2"
   ]
  },
  {
   "cell_type": "code",
   "execution_count": 12,
   "metadata": {},
   "outputs": [
    {
     "data": {
      "text/html": [
       "<div>\n",
       "<style scoped>\n",
       "    .dataframe tbody tr th:only-of-type {\n",
       "        vertical-align: middle;\n",
       "    }\n",
       "\n",
       "    .dataframe tbody tr th {\n",
       "        vertical-align: top;\n",
       "    }\n",
       "\n",
       "    .dataframe thead th {\n",
       "        text-align: right;\n",
       "    }\n",
       "</style>\n",
       "<table border=\"1\" class=\"dataframe\">\n",
       "  <thead>\n",
       "    <tr style=\"text-align: right;\">\n",
       "      <th></th>\n",
       "      <th>alpha</th>\n",
       "      <th>Q</th>\n",
       "      <th>По формулі</th>\n",
       "    </tr>\n",
       "  </thead>\n",
       "  <tbody>\n",
       "    <tr>\n",
       "      <td>0</td>\n",
       "      <td>1.00</td>\n",
       "      <td>0.45435863923495345</td>\n",
       "      <td>2</td>\n",
       "    </tr>\n",
       "    <tr>\n",
       "      <td>1</td>\n",
       "      <td>0.10</td>\n",
       "      <td>0.00019988011983236367</td>\n",
       "      <td>0.00020000000000000004</td>\n",
       "    </tr>\n",
       "    <tr>\n",
       "      <td>2</td>\n",
       "      <td>0.01</td>\n",
       "      <td>1.9998825529399698e-08</td>\n",
       "      <td>2e-08</td>\n",
       "    </tr>\n",
       "  </tbody>\n",
       "</table>\n",
       "</div>"
      ],
      "text/plain": [
       "   alpha                       Q              По формулі\n",
       "0   1.00     0.45435863923495345                       2\n",
       "1   0.10  0.00019988011983236367  0.00020000000000000004\n",
       "2   0.01  1.9998825529399698e-08                   2e-08"
      ]
     },
     "execution_count": 12,
     "metadata": {},
     "output_type": "execute_result"
    }
   ],
   "source": [
    "pd.DataFrame({'alpha':[1,0.1,0.01], 'Q':[str(2*quad(integrand, 0, np.inf, args=1)[0]), \n",
    "                                         str(2*quad(integrand, 0, np.inf, args=0.1)[0]),\n",
    "                                         str(2*quad(integrand, 0, np.inf, args=0.01)[0])],\n",
    "                                    \"По формулі\":[2*(1**4),str(2*(0.1**4)),str(2*(0.01**4))]})"
   ]
  },
  {
   "cell_type": "code",
   "execution_count": 13,
   "metadata": {},
   "outputs": [],
   "source": [
    "def sigma_B(n,alpha): # метод Монте- Карло\n",
    "    w = np.random.uniform(0,1,size=n) # генеруємо n н.о.р в.в\n",
    "    w1 = np.random.uniform(0,1,size=n) # генеруємо n н.о.р в.в\n",
    "    ksi = (1/alpha)*np.power(-np.log(w),1/4) # рахуємо ксі\n",
    "    eta = np.power(-np.log(w1),1/2) # рахуємо ета\n",
    "    r = ksi[ksi<eta].shape[0] # векторизований індикатор\n",
    "    Q = r/n # оцінка Q\n",
    "    sigma2 = Q*(1-Q) # дисперсія\n",
    "    return (sigma2,Q) # повертає два значення (дисперсію, та  оцінку)"
   ]
  },
  {
   "cell_type": "code",
   "execution_count": 15,
   "metadata": {},
   "outputs": [
    {
     "data": {
      "image/png": "[encoded data removed]",
      "text/plain": [
       "<Figure size 432x288 with 1 Axes>"
      ]
     },
     "metadata": {
      "needs_background": "light"
     },
     "output_type": "display_data"
    }
   ],
   "source": [
    "# графік візуальної зміни дисперсії для альфа=1\n",
    "n_list  = np.arange(100,10**5,10**3)\n",
    "sigma_list = [sigma_B(i,alpha=1)[0] for i in n_list]\n",
    "plt.plot(n_list,sigma_list)\n",
    "plt.show()"
   ]
  },
  {
   "cell_type": "code",
   "execution_count": 21,
   "metadata": {},
   "outputs": [],
   "source": [
    "# alpha = 1"
   ]
  },
  {
   "cell_type": "code",
   "execution_count": 19,
   "metadata": {},
   "outputs": [
    {
     "data": {
      "text/plain": [
       "79436"
      ]
     },
     "execution_count": 19,
     "metadata": {},
     "output_type": "execute_result"
    }
   ],
   "source": [
    "n0 = 70000 #alpha==1\n",
    "data = sigma_B(n0,alpha=1)\n",
    "n_ =  int(z_gamma2*data[0]/(eps2*(data[1]**2)))+1\n",
    "n_  "
   ]
  },
  {
   "cell_type": "code",
   "execution_count": 20,
   "metadata": {},
   "outputs": [
    {
     "data": {
      "text/plain": [
       "(0.2476436526182734, 0.4514577773301778)"
      ]
     },
     "execution_count": 20,
     "metadata": {},
     "output_type": "execute_result"
    }
   ],
   "source": [
    "sigma_B(n_,alpha =1)"
   ]
  },
  {
   "cell_type": "code",
   "execution_count": null,
   "metadata": {},
   "outputs": [],
   "source": [
    "# alpha = 0.1"
   ]
  },
  {
   "cell_type": "code",
   "execution_count": 23,
   "metadata": {},
   "outputs": [
    {
     "data": {
      "text/plain": [
       "330689123"
      ]
     },
     "execution_count": 23,
     "metadata": {},
     "output_type": "execute_result"
    }
   ],
   "source": [
    "n0 = 330689123 #alpha==1\n",
    "data = sigma_B(n0,alpha=1)\n",
    "n_ =  int(z_gamma2*data[0]/(eps2*(data[1]**2)))+1\n",
    "n_"
   ]
  },
  {
   "cell_type": "code",
   "execution_count": 76,
   "metadata": {},
   "outputs": [
    {
     "data": {
      "text/plain": [
       "(0.00019936201967724689, 0.00019940178074741213)"
      ]
     },
     "execution_count": 76,
     "metadata": {},
     "output_type": "execute_result"
    }
   ],
   "source": [
    "sigma_B(330689123,alpha=0.1)"
   ]
  }
 ],
 "metadata": {
  "kernelspec": {
   "display_name": "Python 3",
   "language": "python",
   "name": "python3"
  },
  "language_info": {
   "codemirror_mode": {
    "name": "ipython",
    "version": 3
   },
   "file_extension": ".py",
   "mimetype": "text/x-python",
   "name": "python",
   "nbconvert_exporter": "python",
   "pygments_lexer": "ipython3",
   "version": "3.7.4"
  }
 },
 "nbformat": 4,
 "nbformat_minor": 2
}
